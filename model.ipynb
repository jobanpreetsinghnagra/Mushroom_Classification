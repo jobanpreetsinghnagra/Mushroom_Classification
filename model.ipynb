{
 "cells": [
  {
   "cell_type": "code",
   "execution_count": null,
   "id": "1d167ab6",
   "metadata": {},
   "outputs": [],
   "source": [
    "import pandas as pd #for loadin the dataset\n",
    "import numpy as np #dependency of pandas\n",
    "import matplotlib.pyplot as plt #for plotting graphs\n",
    "import seaborn as sns #data viz\n",
    "import os\n",
    "from joblib import dump #to exctract Weights\n",
    "from sklearn.model_selection import train_test_split #for extracting X_train , Y_train etc\n",
    "from sklearn.linear_model import LogisticRegression\n",
    "from sklearn.metrics import accuracy_score,classification_report\n",
    "\n",
    "\n",
    "# Loading dataset\n",
    "X_encoded = pd.read_csv(r\"C:\\Users\\jaken\\Documents\\mushroom_classification\\data\\parameters.csv\")\n",
    "y_encoded = pd.read_csv(r\"C:\\Users\\jaken\\Documents\\mushroom_classification\\data\\labels.csv\")"
   ]
  },
  {
   "cell_type": "code",
   "execution_count": null,
   "id": "b7531e48",
   "metadata": {},
   "outputs": [],
   "source": [
    "X_encoded = X_encoded.drop('Unnamed: 0',axis=1) #fix the parameters"
   ]
  },
  {
   "cell_type": "code",
   "execution_count": null,
   "id": "29560cf3",
   "metadata": {},
   "outputs": [],
   "source": [
    "y_encoded = y_encoded.drop('Unnamed: 0',axis=1) #fix the labels"
   ]
  },
  {
   "cell_type": "code",
   "execution_count": null,
   "id": "a82726cb",
   "metadata": {},
   "outputs": [],
   "source": [
    "X_encoded.describe()"
   ]
  },
  {
   "cell_type": "code",
   "execution_count": null,
   "id": "02fd24f3",
   "metadata": {},
   "outputs": [],
   "source": [
    "y_encoded.head()"
   ]
  },
  {
   "cell_type": "code",
   "execution_count": null,
   "id": "5ea65b4a",
   "metadata": {},
   "outputs": [],
   "source": [
    "# Split the data 80% train and 20%test \n",
    "X_train, X_test, y_train, y_test = train_test_split(\n",
    "    X_encoded, y_encoded, \n",
    "    test_size=0.2,\n",
    "    random_state=5,\n",
    "    stratify=y_encoded\n",
    ")"
   ]
  },
  {
   "cell_type": "code",
   "execution_count": null,
   "id": "8e4038af",
   "metadata": {},
   "outputs": [],
   "source": [
    "print(X_train)"
   ]
  },
  {
   "cell_type": "code",
   "execution_count": null,
   "id": "2499dc9b",
   "metadata": {},
   "outputs": [],
   "source": [
    "model = LogisticRegression(max_iter=10000,random_state=5,solver='liblinear')\n",
    "model.fit(X_train,y_train)\n"
   ]
  },
  {
   "cell_type": "code",
   "execution_count": null,
   "id": "031e7816",
   "metadata": {},
   "outputs": [],
   "source": [
    "\n",
    "y_pred = model.predict(X_test)\n",
    "\n",
    "print(\"accuracy:\" , accuracy_score(y_test,y_pred))\n",
    "print(classification_report(y_test,y_pred))"
   ]
  },
  {
   "cell_type": "code",
   "execution_count": null,
   "id": "18e0a346",
   "metadata": {},
   "outputs": [],
   "source": [
    "y_c =np.array([[0.],\n",
    "       [2.],\n",
    "       [0.],\n",
    "       [0.],\n",
    "       [0.],\n",
    "       [0.],\n",
    "       [0.],\n",
    "       [0.],\n",
    "       [4.],\n",
    "       [0.],\n",
    "       [0.],\n",
    "       [0.],\n",
    "       [0.],\n",
    "       [0.],\n",
    "       [0.],\n",
    "       [0.],\n",
    "       [0.],\n",
    "       [0.],\n",
    "       [0.],\n",
    "       [0.],\n",
    "       [0.],\n",
    "       [3.]])\n",
    "\n",
    "y_c = y_c.T\n",
    "# 3. Use the model to predict on your input data.\n",
    "single_prediction = model.predict(y_c)\n",
    "\n",
    "# Print the result\n",
    "# print(\"The prediction for your input is:\", single_prediction[0])\n",
    "l = y_pred.shape[0]\n",
    "e=[]\n",
    "p=[]\n",
    "\n",
    "for j in range(l):\n",
    "    if y_pred[j] == 1:\n",
    "        e.append(1)\n",
    "    else:\n",
    "        p.append(1)\n",
    "\n",
    "print(len(e))\n",
    "print(len(p))\n"
   ]
  },
  {
   "cell_type": "code",
   "execution_count": null,
   "id": "b9861a3d",
   "metadata": {},
   "outputs": [],
   "source": [
    "\n",
    "\n",
    "\n",
    "# Save the trained model and encoders\n",
    "dump(model, r\"C:\\Users\\jaken\\Documents\\mushroom_classification\\models\\mushroom_model.pkl\")\n",
    "\n",
    "\n",
    "# Save feature names for reference\n",
    "feature_names = X_encoded.columns.tolist()\n",
    "dump(feature_names, r\"C:\\Users\\jaken\\Documents\\mushroom_classification\\models\\feature_names.pkl\")\n",
    "\n",
    "print(\"Model and encoders saved successfully!\")\n",
    "print(f\"Feature names: {feature_names}\")\n",
    "print(f\"Total features: {len(feature_names)}\")\n",
    "\n",
    "# Verify the files were created\n",
    "\n",
    "files = ['mushroom_model.pkl', 'ordinal_encoder.pkl', 'target_encoder.pkl', 'feature_names.pkl']\n",
    "for file in files:\n",
    "    if os.path.exists(file):\n",
    "        print(f\"✓ {file} created\")\n",
    "    else:\n",
    "        print(f\"✗ {file} NOT created\")"
   ]
  },
  {
   "cell_type": "code",
   "execution_count": null,
   "id": "c88d07ef",
   "metadata": {},
   "outputs": [],
   "source": []
  }
 ],
 "metadata": {
  "kernelspec": {
   "display_name": "mush",
   "language": "python",
   "name": "python3"
  },
  "language_info": {
   "codemirror_mode": {
    "name": "ipython",
    "version": 3
   },
   "file_extension": ".py",
   "mimetype": "text/x-python",
   "name": "python",
   "nbconvert_exporter": "python",
   "pygments_lexer": "ipython3",
   "version": "3.13.5"
  }
 },
 "nbformat": 4,
 "nbformat_minor": 5
}
