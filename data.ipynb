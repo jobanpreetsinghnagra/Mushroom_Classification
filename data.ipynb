{
 "cells": [
  {
   "cell_type": "markdown",
   "id": "fcd44554",
   "metadata": {},
   "source": [
    "## To Dos\n",
    "### Statistics about the dataset\n",
    "### Handle NaNs \n",
    "### Encode Dataset"
   ]
  },
  {
   "cell_type": "code",
   "execution_count": null,
   "id": "5b4d3293",
   "metadata": {},
   "outputs": [],
   "source": [
    "import pandas as pd\n",
    "import numpy as np\n",
    "import seaborn as sns\n",
    "import matplotlib.pyplot as plt\n",
    "from joblib import dump\n",
    "from sklearn.preprocessing import OrdinalEncoder , LabelEncoder, StandardScaler"
   ]
  },
  {
   "cell_type": "code",
   "execution_count": null,
   "id": "3a4fceb3",
   "metadata": {},
   "outputs": [],
   "source": [
    "df = pd.read_csv(r\"C:\\Users\\jaken\\Documents\\mushroom_classification\\data\\mushrooms.csv\")\n",
    "df"
   ]
  },
  {
   "cell_type": "code",
   "execution_count": null,
   "id": "494f3899",
   "metadata": {},
   "outputs": [],
   "source": [
    "df.info"
   ]
  },
  {
   "cell_type": "code",
   "execution_count": null,
   "id": "04407531",
   "metadata": {},
   "outputs": [],
   "source": [
    "df.isnull().sum()"
   ]
  },
  {
   "cell_type": "code",
   "execution_count": null,
   "id": "5045c3e9",
   "metadata": {},
   "outputs": [],
   "source": [
    "df.columns"
   ]
  },
  {
   "cell_type": "code",
   "execution_count": null,
   "id": "a287444e",
   "metadata": {},
   "outputs": [],
   "source": [
    "df.head()"
   ]
  },
  {
   "attachments": {
    "image.png": {
     "image/png": "[encoded data removed]"
    }
   },
   "cell_type": "markdown",
   "id": "bf103929",
   "metadata": {},
   "source": [
    "![image.png](attachment:image.png)"
   ]
  },
  {
   "cell_type": "code",
   "execution_count": null,
   "id": "b7bd3dad",
   "metadata": {},
   "outputs": [],
   "source": [
    "#handle '?' values in Stalk Root\n",
    "if 'stalk-root' in df.columns:\n",
    "    df['stalk-root'] = df['stalk-root'].replace('?', np.nan)\n",
    "\n",
    "# Drop rows with missing values\n",
    "df_cleaned = df.dropna()\n"
   ]
  },
  {
   "cell_type": "code",
   "execution_count": null,
   "id": "81ec14be",
   "metadata": {},
   "outputs": [],
   "source": [
    "# Separate imput features and target class\n",
    "y = df_cleaned['class']\n",
    "X = df_cleaned.drop('class', axis=1)"
   ]
  },
  {
   "cell_type": "code",
   "execution_count": null,
   "id": "7bc50b4e",
   "metadata": {},
   "outputs": [],
   "source": [
    "X.describe()#(5644,22)"
   ]
  },
  {
   "cell_type": "code",
   "execution_count": null,
   "id": "75c6a9d1",
   "metadata": {},
   "outputs": [],
   "source": [
    "y.describe()#(5644,1)"
   ]
  },
  {
   "cell_type": "code",
   "execution_count": null,
   "id": "0bbba3fe",
   "metadata": {},
   "outputs": [],
   "source": [
    "# Encode input categorical features using OrdinalEncoder\n",
    "ordinal_encoder = OrdinalEncoder(handle_unknown='use_encoded_value', unknown_value=-1)\n",
    "\"\"\"\n",
    "When set to ‘use_encoded_value’, the encoded value of unknown categories will be \n",
    "set to the value given for the parameter unknown_value\n",
    "\n",
    "\n",
    "When the parameter handle_unknown is set to ‘use_encoded_value’,\n",
    "this parameter is required and will set the encoded value of unknown categories.\n",
    "\n",
    "\"\"\"\n",
    "\n",
    "X_encoded = ordinal_encoder.fit_transform(X)\n",
    "\"\"\"\n",
    "\n",
    "The fit(data) method is used to compute the mean and std dev for a given feature to be used further for scaling.\n",
    "The transform(data) method is used to perform scaling using mean and std dev calculated using the .fit() method.\n",
    "The fit_transform() method does both fits and transform.\n",
    "\n",
    "\"\"\"\n",
    "\n",
    "\n",
    "X_encoded = pd.DataFrame(X_encoded, columns=X.columns, index=X.index)\n"
   ]
  },
  {
   "cell_type": "code",
   "execution_count": null,
   "id": "88ddeb76",
   "metadata": {},
   "outputs": [],
   "source": [
    "\n",
    "scaler = StandardScaler()\n",
    "X_scaled = scaler.fit_transform(X_encoded)\n",
    "X_scaled = pd.DataFrame(X_scaled, columns=X.columns, index=X.index)\n"
   ]
  },
  {
   "cell_type": "code",
   "execution_count": null,
   "id": "bf61ade7",
   "metadata": {},
   "outputs": [],
   "source": [
    "\n",
    "# Encode output class variable using LabelEncoder\n",
    "target_encoder = LabelEncoder()\n",
    "#Encode target labels with value between 0 and n_classes-1.\n",
    "y_encoded = target_encoder.fit_transform(y)\n",
    "y_enc = pd.DataFrame(y_encoded)"
   ]
  },
  {
   "cell_type": "code",
   "execution_count": null,
   "id": "3c1d556b",
   "metadata": {},
   "outputs": [],
   "source": [
    "X_scaled.to_csv(r\"C:\\Users\\jaken\\Documents\\mushroom_classification\\data\\parameters.csv\",index=False)\n",
    "y_enc.to_csv(r\"C:\\Users\\jaken\\Documents\\mushroom_classification\\data\\labels.csv\",index=False)"
   ]
  },
  {
   "cell_type": "code",
   "execution_count": null,
   "id": "0978498c",
   "metadata": {},
   "outputs": [],
   "source": [
    "dump(ordinal_encoder, r\"C:\\Users\\jaken\\Documents\\mushroom_classification\\models\\ordinal_encoder.pkl\") \n",
    "dump(target_encoder, r\"C:\\Users\\jaken\\Documents\\mushroom_classification\\models\\target_encoder.pkl\")"
   ]
  },
  {
   "cell_type": "code",
   "execution_count": null,
   "id": "857c2db2",
   "metadata": {},
   "outputs": [],
   "source": []
  }
 ],
 "metadata": {
  "kernelspec": {
   "display_name": "mush",
   "language": "python",
   "name": "python3"
  },
  "language_info": {
   "codemirror_mode": {
    "name": "ipython",
    "version": 3
   },
   "file_extension": ".py",
   "mimetype": "text/x-python",
   "name": "python",
   "nbconvert_exporter": "python",
   "pygments_lexer": "ipython3",
   "version": "3.13.5"
  }
 },
 "nbformat": 4,
 "nbformat_minor": 5
}
